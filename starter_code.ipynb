{
 "cells": [
  {
   "cell_type": "markdown",
   "metadata": {
    "collapsed": true
   },
   "source": [
    "## 搭建一个简单的问答系统 （Building a Simple QA System）"
   ]
  },
  {
   "cell_type": "markdown",
   "metadata": {},
   "source": [
    "本次项目的目标是搭建一个基于检索式的简易的问答系统，这是一个最经典的方法也是最有效的方法。  \n",
    "\n",
    "```不要单独创建一个文件，所有的都在这里面编写，不要试图改已经有的函数名字 （但可以根据需求自己定义新的函数）```\n",
    "\n",
    "```预估完成时间```： 5-10小时"
   ]
  },
  {
   "cell_type": "markdown",
   "metadata": {},
   "source": [
    "#### 检索式的问答系统\n",
    "问答系统所需要的数据已经提供，对于每一个问题都可以找得到相应的答案，所以可以理解为每一个样本数据是 ``<问题、答案>``。 那系统的核心是当用户输入一个问题的时候，首先要找到跟这个问题最相近的已经存储在库里的问题，然后直接返回相应的答案即可（但实际上也可以抽取其中的实体或者关键词)。 举一个简单的例子：\n",
    "\n",
    "假设我们的库里面已有存在以下几个<问题,答案>：\n",
    "- <\"贪心学院主要做什么方面的业务？”， “他们主要做人工智能方面的教育”>\n",
    "- <“国内有哪些做人工智能教育的公司？”， “贪心学院”>\n",
    "- <\"人工智能和机器学习的关系什么？\", \"其实机器学习是人工智能的一个范畴，很多人工智能的应用要基于机器学习的技术\">\n",
    "- <\"人工智能最核心的语言是什么？\"， ”Python“>\n",
    "- .....\n",
    "\n",
    "假设一个用户往系统中输入了问题 “贪心学院是做什么的？”， 那这时候系统先去匹配最相近的“已经存在库里的”问题。 那在这里很显然是 “贪心学院是做什么的”和“贪心学院主要做什么方面的业务？”是最相近的。 所以当我们定位到这个问题之后，直接返回它的答案 “他们主要做人工智能方面的教育”就可以了。 所以这里的核心问题可以归结为计算两个问句（query）之间的相似度。"
   ]
  },
  {
   "cell_type": "markdown",
   "metadata": {},
   "source": [
    "#### 项目中涉及到的任务描述\n",
    "问答系统看似简单，但其中涉及到的内容比较多。 在这里先做一个简单的解释，总体来讲，我们即将要搭建的模块包括：\n",
    "\n",
    "- 文本的读取： 需要从相应的文件里读取```(问题，答案)```\n",
    "- 文本预处理： 清洗文本很重要，需要涉及到```停用词过滤```等工作\n",
    "- 文本的表示： 如果表示一个句子是非常核心的问题，这里会涉及到```tf-idf```, ```Glove```以及```BERT Embedding```\n",
    "- 文本相似度匹配： 在基于检索式系统中一个核心的部分是计算文本之间的```相似度```，从而选择相似度最高的问题然后返回这些问题的答案\n",
    "- 倒排表： 为了加速搜索速度，我们需要设计```倒排表```来存储每一个词与出现的文本\n",
    "- 词义匹配：直接使用倒排表会忽略到一些意思上相近但不完全一样的单词，我们需要做这部分的处理。我们需要提前构建好```相似的单词```然后搜索阶段使用\n",
    "- 拼写纠错：我们不能保证用户输入的准确，所以第一步需要做用户输入检查，如果发现用户拼错了，我们需要及时在后台改正，然后按照修改后的在库里面搜索\n",
    "- 文档的排序： 最后返回结果的排序根据文档之间```余弦相似度```有关，同时也跟倒排表中匹配的单词有关\n"
   ]
  },
  {
   "cell_type": "markdown",
   "metadata": {},
   "source": [
    "#### 项目中需要的数据：\n",
    "1. ```dev-v2.0.json```: 这个数据包含了问题和答案的pair， 但是以JSON格式存在，需要编写parser来提取出里面的问题和答案。 \n",
    "2. ```glove.6B```: 这个文件需要从网上下载，下载地址为：https://nlp.stanford.edu/projects/glove/， 请使用d=200的词向量\n",
    "3. ```spell-errors.txt``` 这个文件主要用来编写拼写纠错模块。 文件中第一列为正确的单词，之后列出来的单词都是常见的错误写法。 但这里需要注意的一点是我们没有给出他们之间的概率，也就是p(错误|正确），所以我们可以认为每一种类型的错误都是```同等概率```\n",
    "4. ```vocab.txt``` 这里列了几万个英文常见的单词，可以用这个词库来验证是否有些单词被拼错\n",
    "5. ```testdata.txt``` 这里搜集了一些测试数据，可以用来测试自己的spell corrector。这个文件只是用来测试自己的程序。"
   ]
  },
  {
   "cell_type": "markdown",
   "metadata": {},
   "source": [
    "在本次项目中，你将会用到以下几个工具：\n",
    "- ```sklearn```。具体安装请见：http://scikit-learn.org/stable/install.html  sklearn包含了各类机器学习算法和数据处理工具，包括本项目需要使用的词袋模型，均可以在sklearn工具包中找得到。 \n",
    "- ```jieba```，用来做分词。具体使用方法请见 https://github.com/fxsjy/jieba\n",
    "- ```bert embedding```: https://github.com/imgarylai/bert-embedding\n",
    "- ```nltk```：https://www.nltk.org/index.html"
   ]
  },
  {
   "cell_type": "markdown",
   "metadata": {},
   "source": [
    "### 第一部分：对于训练数据的处理：读取文件和预处理"
   ]
  },
  {
   "cell_type": "markdown",
   "metadata": {},
   "source": [
    "- ```文本的读取```： 需要从文本中读取数据，此处需要读取的文件是```dev-v2.0.json```，并把读取的文件存入一个列表里（list）\n",
    "- ```文本预处理```： 对于问题本身需要做一些停用词过滤等文本方面的处理\n",
    "- ```可视化分析```： 对于给定的样本数据，做一些可视化分析来更好地理解数据"
   ]
  },
  {
   "cell_type": "markdown",
   "metadata": {},
   "source": [
    "#### 1.1节： 文本的读取\n",
    "把给定的文本数据读入到```qlist```和```alist```当中，这两个分别是列表，其中```qlist```是问题的列表，```alist```是对应的答案列表"
   ]
  },
  {
   "cell_type": "code",
   "execution_count": null,
   "metadata": {},
   "outputs": [],
   "source": [
    "import nltk\n",
    "nltk.download('stopwords')\n",
    "nltk.download('reuters')\n",
    "nltk.download('punkt')"
   ]
  },
  {
   "cell_type": "code",
   "execution_count": null,
   "metadata": {},
   "outputs": [],
   "source": [
    "\n",
    "import matplotlib.pyplot as plt\n",
    "\n",
    "from nltk.corpus import stopwords\n",
    "from nltk.tokenize import word_tokenize # 分词\n",
    "from nltk.stem import PorterStemmer ## 词干提取 \n",
    "from nltk.corpus import reuters\n",
    "from collections import Counter,defaultdict\n",
    "\n",
    "from sklearn.feature_extraction.text import TfidfVectorizer\n",
    "from sklearn.metrics.pairwise import cosine_similarity\n",
    "import json\n",
    "import math\n",
    "import string\n",
    "import numpy as np\n",
    "import heapq\n",
    "import scipy.sparse\n",
    "\n",
    "from queue import PriorityQueue\n",
    "\n",
    "%matplotlib inline"
   ]
  },
  {
   "cell_type": "code",
   "execution_count": 18,
   "metadata": {},
   "outputs": [],
   "source": [
    "def read_corpus(file_path):\n",
    "    \"\"\"\n",
    "    读取给定的语料库，并把问题列表和答案列表分别写入到 qlist, alist 里面。 在此过程中，不用对字符换做任何的处理（这部分需要在 Part 2.3里处理）\n",
    "    qlist = [\"问题1\"， “问题2”， “问题3” ....]\n",
    "    alist = [\"答案1\", \"答案2\", \"答案3\" ....]\n",
    "    务必要让每一个问题和答案对应起来（下标位置一致）\n",
    "    \"\"\"\n",
    "    # TODO 需要完成的代码部分 ...\n",
    "    \n",
    "    with open(file_path, 'r') as path:\n",
    "        json_data = json.load(path)\n",
    "        #print(json_data)\n",
    "        \n",
    "    qlist = [] # 问题列表\n",
    "    alist = [] # 答案列表\n",
    "    \n",
    "    data = json_data['data']\n",
    "    \n",
    "    for eachdata in data:\n",
    "        for eachqas in eachdata['paragraphs']:\n",
    "            for qa in eachqas['qas']:\n",
    "                 if(len(qa['answers']))>0: # 有很多问题没有答案，所以需要判断去掉没有答案的数据=\n",
    "                    qlist.append(qa['question'])\n",
    "                    alist.append(qa['answers'][0]['text'])\n",
    "    assert len(qlist) == len(alist)  # 确保长度一样\n",
    "    return qlist, alist"
   ]
  },
  {
   "cell_type": "code",
   "execution_count": null,
   "metadata": {},
   "outputs": [],
   "source": [
    "# qlist=['When did Beyonce start becoming popular?','What areas did Beyonce compete in when she was growing up?',...]\n",
    "# alist = ['in the late 1990s','singing and dancing',...]"
   ]
  },
  {
   "cell_type": "code",
   "execution_count": 19,
   "metadata": {},
   "outputs": [
    {
     "name": "stderr",
     "output_type": "stream",
     "text": [
      "IOPub data rate exceeded.\n",
      "The notebook server will temporarily stop sending output\n",
      "to the client in order to avoid crashing it.\n",
      "To change this limit, set the config variable\n",
      "`--NotebookApp.iopub_data_rate_limit`.\n",
      "\n",
      "Current values:\n",
      "NotebookApp.iopub_data_rate_limit=1000000.0 (bytes/sec)\n",
      "NotebookApp.rate_limit_window=3.0 (secs)\n",
      "\n"
     ]
    }
   ],
   "source": [
    "qlist, alist = read_corpus('train-v2.0.json')\n"
   ]
  },
  {
   "cell_type": "markdown",
   "metadata": {},
   "source": [
    "#### 1.2 理解数据（可视化分析/统计信息）\n",
    "对数据的理解是任何AI工作的第一步， 需要对数据有个比较直观的认识。在这里，简单地统计一下：\n",
    "\n",
    "- 在```qlist```出现的总单词个数\n",
    "- 按照词频画一个```histogram``` plot"
   ]
  },
  {
   "cell_type": "code",
   "execution_count": null,
   "metadata": {},
   "outputs": [],
   "source": [
    "# 分词\n",
    "def cut(input_list):\n",
    "    list_new = []\n",
    "    for q in input_list:\n",
    "        list_new.append(q.replace('?','').split(' '))\n",
    "    return list_new"
   ]
  },
  {
   "cell_type": "code",
   "execution_count": null,
   "metadata": {},
   "outputs": [],
   "source": [
    "def handle_one_sentence(sentence):\n",
    "    \"\"\"对单个句子进行分词\"\"\"\n",
    "    return sentence.replace('?','').split(' ')"
   ]
  },
  {
   "cell_type": "code",
   "execution_count": null,
   "metadata": {},
   "outputs": [],
   "source": [
    "# TODO: 统计一下在qlist中总共出现了多少个单词？ 总共出现了多少个不同的单词(unique word)？\n",
    "#       这里需要做简单的分词，对于英文我们根据空格来分词即可，其他过滤暂不考虑（只需分词）\n",
    "\n",
    "qlist_new = [q for l in cut(qlist) for q in l] # 分词\n",
    "dif_word_total = len(qlist_new) # 所有单词的个数\n",
    "\n",
    "word_dict = Counter(qlist_new) # Counter({单词：词频})\n",
    "word_total = len(dict(word_dict)) \n",
    "word_total_unique = [word for word in dict(word_dict)]  # 单词\n",
    "\n",
    "print (\"一共出现了 %d 个单词\"%dif_word_total) # 903411\n",
    "print (\"共有 %d 个不同的单词\"%word_total) #51979 "
   ]
  },
  {
   "cell_type": "code",
   "execution_count": null,
   "metadata": {},
   "outputs": [],
   "source": []
  },
  {
   "cell_type": "code",
   "execution_count": null,
   "metadata": {},
   "outputs": [],
   "source": [
    "# TODO: 统计一下qlist中出现1次，2次，3次... 出现的单词个数， 然后画一个plot. \n",
    "# 这里的x轴是单词出现的次数（1，2，3，..)， y轴是单词个数。\n",
    "#       从左到右分别是 出现1次的单词数，出现2次的单词数，出现3次的单词数... \n",
    "\n",
    "y = []\n",
    "for i in word_dict: # word_dict=Counter({单词：词频})\n",
    "    y.append(word_dict[i]) # 词频\n",
    "\n",
    "plt.plot(sorted(y,reverse=True)[50:])\n",
    "plt.show()"
   ]
  },
  {
   "cell_type": "code",
   "execution_count": null,
   "metadata": {},
   "outputs": [],
   "source": [
    "# TODO： 从上面的图中能观察到什么样的现象？ 这样的一个图的形状跟一个非常著名的函数形状很类似，能所出此定理吗？ \n",
    "#       hint: [XXX]'s law\n",
    "# \n",
    "# Zipf's law\n",
    "#从上图可以看出词库里面只有一部分单词经常出现，绝大部分的单词不怎么出现"
   ]
  },
  {
   "cell_type": "code",
   "execution_count": null,
   "metadata": {},
   "outputs": [],
   "source": []
  },
  {
   "cell_type": "markdown",
   "metadata": {
    "collapsed": true
   },
   "source": [
    "#### 1.3 文本预处理\n",
    "此部分需要做文本方面的处理。 以下是可以用到的一些方法：\n",
    "\n",
    "- 1. 停用词过滤 （去网上搜一下 \"english stop words list\"，会出现很多包含停用词库的网页，或者直接使用NLTK自带的）   \n",
    "- 2. 转换成lower_case： 这是一个基本的操作   \n",
    "- 3. 去掉一些无用的符号： 比如连续的感叹号！！！， 或者一些奇怪的单词。\n",
    "- 4. 去掉出现频率很低的词：比如出现次数少于10,20.... （想一下如何选择阈值）\n",
    "- 5. 对于数字的处理： 分词完只有有些单词可能就是数字比如44，415，把所有这些数字都看成是一个单词，这个新的单词我们可以定义为 \"#number\"\n",
    "- 6. lemmazation： 在这里不要使用stemming， 因为stemming的结果有可能不是valid word。\n"
   ]
  },
  {
   "cell_type": "code",
   "execution_count": null,
   "metadata": {},
   "outputs": [],
   "source": []
  },
  {
   "cell_type": "code",
   "execution_count": null,
   "metadata": {},
   "outputs": [],
   "source": [
    "# 低频词库\n",
    "low_frequency_words = []\n",
    "for (k,v) in  word_dict.items():\n",
    "    if v < 2:\n",
    "        low_frequency_words.append(k)\n",
    " "
   ]
  },
  {
   "cell_type": "code",
   "execution_count": null,
   "metadata": {},
   "outputs": [],
   "source": [
    "# TODO： 需要做文本方面的处理。 从上述几个常用的方法中选择合适的方法给qlist做预处理（不一定要按照上面的顺序，不一定要全部使用）\n",
    "\n",
    "def text_preprocessing(input_list):\n",
    "    \"\"\"预处理\"\"\"\n",
    "    \n",
    "    stop_words = set(stopwords.words('english')) # 停用词\n",
    "    stemmer = PorterStemmer() # 词干提取\n",
    "    input_list = cut(input_list)  # 分词  \n",
    "    new_list = [] #保存处理完的qlist\\alist\n",
    "    \n",
    "    for l in input_list:\n",
    "        l_list = '' # 保存句子\n",
    "        for word in l:\n",
    "            word = word.lower()      # 1.转换小写\n",
    "            word = stemmer.stem(word) # 2.词干提取\n",
    "            word = ''.join(c for c in word if c not in string.punctuation)  # 3.去除所有标点符号\n",
    "            \n",
    "            if word.isdigit(): # 4. 处理数字\n",
    "                word = word.replace(word,'#number')\n",
    "            \n",
    "            if word not in stop_words and word not in low_frequency_words: # 5.去停用词 6.过滤低频词\n",
    "                l_list += word + ' '\n",
    "        new_list.append(l_list)\n",
    "    return new_list\n",
    "  "
   ]
  },
  {
   "cell_type": "code",
   "execution_count": null,
   "metadata": {},
   "outputs": [],
   "source": [
    "qlist, alist = read_corpus('train-v2.0.json') # 原问题列表 答案列表\n",
    "qlist = text_preprocessing(qlist)   # 预处理后的问题列表"
   ]
  },
  {
   "cell_type": "code",
   "execution_count": null,
   "metadata": {},
   "outputs": [],
   "source": [
    "#qlist = ['beyonc start becom popular ','area beyonc compet wa grow up ',...] 预处理后"
   ]
  },
  {
   "cell_type": "markdown",
   "metadata": {},
   "source": [
    "### 第二部分： 文本的表示\n",
    "当我们做完必要的文本处理之后就需要想办法表示文本了，这里有几种方式\n",
    "\n",
    "- 1. 使用```tf-idf vector```\n",
    "- 2. 使用embedding技术如```word2vec```, ```bert embedding```等\n",
    "\n",
    "下面我们分别提取这三个特征来做对比。 "
   ]
  },
  {
   "cell_type": "markdown",
   "metadata": {},
   "source": [
    "#### 2.1 使用tf-idf表示向量\n",
    "把```qlist```中的每一个问题的字符串转换成```tf-idf```向量, 转换之后的结果存储在```X```矩阵里。 ``X``的大小是： ``N* D``的矩阵。 这里``N``是问题的个数（样本个数），\n",
    "``D``是词典库的大小"
   ]
  },
  {
   "cell_type": "code",
   "execution_count": null,
   "metadata": {},
   "outputs": [],
   "source": [
    "# TODO \n",
    "vectorizer =  TfidfVectorizer()          # 定一个tf-idf的vectorizer\n",
    "X = vectorizer.fit_transform(qlist)  # 结果存放在X矩阵"
   ]
  },
  {
   "cell_type": "code",
   "execution_count": null,
   "metadata": {},
   "outputs": [],
   "source": []
  },
  {
   "cell_type": "markdown",
   "metadata": {},
   "source": [
    "#### 2.2 使用wordvec + average pooling\n",
    "词向量方面需要下载： https://nlp.stanford.edu/projects/glove/ （请下载``glove.6B.zip``），并使用``d=200``的词向量（200维）。国外网址如果很慢，可以在百度上搜索国内服务器上的。 每个词向量获取完之后，即可以得到一个句子的向量。 我们通过``average pooling``来实现句子的向量。 "
   ]
  },
  {
   "cell_type": "code",
   "execution_count": null,
   "metadata": {},
   "outputs": [],
   "source": [
    "# TODO 基于Glove向量获取句子向量\n",
    "# 建立glove矩阵\n",
    "with open('glove.6B.200d.txt', 'r') as file:\n",
    "    emb = []\n",
    "    vocab = []\n",
    "    for line in file.readlines():\n",
    "        row = line.strip().replace(\"?\",'').split(' ') # 去除前后空格 替换？，按空格分开\n",
    "        vocab.append(row[0]) # 词\n",
    "        emb.append(row[1:]) # 词向量\n",
    "        \n",
    "emb =np.asarray(emb) # 词向量矩阵\n",
    "# 读取每一个单词的嵌入。这个是 D*H的矩阵，这里的D是词典库的大小， H是词向量的大小。 这里面我们给定的每个单词的词向量，那句子向量怎么表达？\n",
    "# 其中，最简单的方式 句子向量 = 词向量的平均（出现在问句里的）， 如果给定的词没有出现在词典库里，则忽略掉这个词。\n"
   ]
  },
  {
   "cell_type": "code",
   "execution_count": null,
   "metadata": {},
   "outputs": [],
   "source": [
    "def get_words_vec(words):\n",
    "    \"\"\"获得句向量\"\"\"\n",
    "    glove_index_list = []  # 单词索引列表\n",
    "    \n",
    "    for word in words.split(' '):\n",
    "        if word in vocab:\n",
    "            index = vocab.index(word) # 取单词对应的索引\n",
    "            glove_index_list.append(index)\n",
    "    \n",
    "     # 对一句话中的所有单词的词向量求平均=句向量\n",
    "    return emb[glove_index_list].astype(float).sum()/len(words.split(' '))"
   ]
  },
  {
   "cell_type": "code",
   "execution_count": null,
   "metadata": {},
   "outputs": [],
   "source": [
    "qlist_matrix = []\n",
    "for q in qlist: # 问题列表\n",
    "    q_vec = get_words_vec(q) # 获得每一个问题的句向量\n",
    "    qlist_matrix.append(q_vec)\n",
    "qlist_matrix = np.asarray(qlist_matrix)\n",
    "X_w2v=qlist_matrix"
   ]
  },
  {
   "cell_type": "code",
   "execution_count": null,
   "metadata": {},
   "outputs": [],
   "source": []
  },
  {
   "cell_type": "markdown",
   "metadata": {},
   "source": [
    "#### 2.3 使用BERT + average pooling\n",
    "最近流行的BERT也可以用来学出上下文相关的词向量（contex-aware embedding）， 在很多问题上得到了比较好的结果。在这里，我们不做任何的训练，而是直接使用已经训练好的BERT embedding。 具体如何训练BERT将在之后章节里体会到。 为了获取BERT-embedding，可以直接下载已经训练好的模型从而获得每一个单词的向量。可以从这里获取： https://github.com/imgarylai/bert-embedding , 请使用```bert_12_768_12```\t当然，你也可以从其他source获取也没问题，只要是合理的词向量。 "
   ]
  },
  {
   "cell_type": "code",
   "execution_count": null,
   "metadata": {},
   "outputs": [],
   "source": [
    "from bert_embedding import BertEmbedding\n",
    "import mxnet"
   ]
  },
  {
   "cell_type": "code",
   "execution_count": null,
   "metadata": {},
   "outputs": [],
   "source": [
    "# TODO 基于BERT的句子向量计算\n",
    "\n",
    "\n",
    "# 如果有gpu的话\n",
    "ctx = mxnet.gpu()\n",
    "# bertEmbedding = BertEmbedding(ctx=ctx, model='bert_12_768_12', dataset_name='book_corpus_wiki_en_uncased')\n",
    "bertEmbedding = BertEmbedding(ctx=ctx, model='bert_12_768_12')\n",
    "\n",
    "\n",
    "def get_bert_embedding(qlist, isUseAveragePool = True):\n",
    "    \"\"\"\n",
    "    功能：获取bert词向量\n",
    "    :param qlist: 文本list,\n",
    "    :return: 每个句子的平均bert词向量\n",
    "    \"\"\"\n",
    "    embedding_list = []\n",
    "\n",
    "    for index, question in enumerate(qlist):\n",
    "        result = bertEmbedding(question.split('\\n'))\n",
    "        item = result[0]\n",
    "        if len(item[0]) > 0:\n",
    "            if isUseAveragePool:\n",
    "                embedding_list.append(np.sum(np.array(item[1]), axis=0) / len(item[0]))\n",
    "            else:\n",
    "                embedding_list.append(np.max(np.array(item[1]), axis=0))\n",
    "\n",
    "    return np.array(embedding_list, dtype= np.float16)\n",
    "\n",
    "\n",
    "xbert_vector_s_p = \"xbert_vector_new.npy\"\n",
    "\n",
    "X_bert = np.zeros(shape=(len(qlist), 768), dtype= np.float16)\n",
    "\n",
    "if not os.path.exists(xbert_vector_s_p):\n",
    "    X_bert = get_bert_embedding(qlist, False)\n",
    "    np.save(xbert_vector_s_p, X_bert)\n",
    "else:\n",
    "    X_bert = np.load(xbert_vector_s_p)\n",
    "\n",
    "X_bert = np.array(X_bert) # 每一个句子的向量结果存放在X_bert矩阵里。行数为句子的总个数，列数为一个句子embedding大小。 "
   ]
  },
  {
   "cell_type": "markdown",
   "metadata": {
    "collapsed": true
   },
   "source": [
    "### 第三部分： 相似度匹配以及搜索\n",
    "在这部分里，我们需要把用户每一个输入跟知识库里的每一个问题做一个相似度计算，从而得出最相似的问题。但对于这个问题，时间复杂度其实很高，所以我们需要结合倒排表来获取相似度最高的问题，从而获得答案。"
   ]
  },
  {
   "cell_type": "code",
   "execution_count": null,
   "metadata": {},
   "outputs": [],
   "source": []
  },
  {
   "cell_type": "markdown",
   "metadata": {},
   "source": [
    "#### 3.1 tf-idf + 余弦相似度\n",
    "我们可以直接基于计算出来的``tf-idf``向量，计算用户最新问题与库中存储的问题之间的相似度，从而选择相似度最高的问题的答案。这个方法的复杂度为``O(N)``， ``N``是库中问题的个数。"
   ]
  },
  {
   "cell_type": "code",
   "execution_count": null,
   "metadata": {},
   "outputs": [],
   "source": [
    "alist = np.array(alist)"
   ]
  },
  {
   "cell_type": "code",
   "execution_count": null,
   "metadata": {},
   "outputs": [],
   "source": [
    "def get_top_results_tfidf_noindex(query):\n",
    "    # TODO 需要编写\n",
    "    \"\"\"\n",
    "    给定用户输入的问题 query, 返回最有可能的TOP 5问题。这里面需要做到以下几点：\n",
    "    1. 对于用户的输入 query 首先做一系列的预处理(上面提到的方法)，然后再转换成tf-idf向量（利用上面的vectorizer)\n",
    "    2. 计算跟每个库里的问题之间的相似度\n",
    "    3. 找出相似度最高的top5问题的答案\n",
    "    \"\"\"\n",
    "    input_q = text_preprocessing([query]) # 对输入的query问题进行预处理 \n",
    "    input_vec = vectorizer.transform(input_q) # 转为tfidf向量\n",
    "    res = cosine_similarity(input_vec,X)[0] # 计算query跟每个库里的问题之间的相似度\n",
    "    top_idxs = np.argsort(res)[-5:].tolist()  # top_idxs存放相似度最高的（存在qlist里的）问题的下标 np.argsort输出排序后的下标\n",
    "    return alist[top_idxs] # 返回相似度最高的问题对应的答案，作为TOP5答案    "
   ]
  },
  {
   "cell_type": "code",
   "execution_count": null,
   "metadata": {},
   "outputs": [],
   "source": [
    "# TODO: 编写几个测试用例，并输出结果  \n",
    "# 给出问题 找出答案\n",
    "print (get_top_results_tfidf_noindex(\"Which airport was shut down?\"))\n",
    "print (get_top_results_tfidf_noindex(\"Which airport is closed?\"))\n",
    "print (get_top_results_tfidf_noindex(\"What government blocked aid after Cyclone Nargis?\"))\n",
    "print (get_top_results_tfidf_noindex(\"Which government stopped aid after Hurricane Nargis?\"))"
   ]
  },
  {
   "cell_type": "code",
   "execution_count": null,
   "metadata": {},
   "outputs": [],
   "source": [
    "#结果\n",
    "# ['April 2006' 'newspapers'\n",
    "#  'aerodrome with facilities for flights to take off and land'\n",
    "#  'Chengdu Shuangliu International Airport'\n",
    "#  'Chengdu Shuangliu International Airport']\n",
    "# ['YYT' 'Bern Airport' 'Newburgh, New York'\n",
    "#  'aerodrome with facilities for flights to take off and land'\n",
    "#  'Plymouth City Airport']\n",
    "# ['three' 'the British government' '10 days' 'foreign aid' 'Myanmar']\n",
    "# ['10 days' 'war on terror' 'foreign aid' 'Isabel' 'Myanmar']"
   ]
  },
  {
   "cell_type": "markdown",
   "metadata": {},
   "source": [
    "你会发现上述的程序很慢，没错！ 是因为循环了所有库里的问题。为了优化这个过程，我们需要使用一种数据结构叫做```倒排表```。 使用倒排表我们可以把单词和出现这个单词的文档做关键。 之后假如要搜索包含某一个单词的文档，即可以非常快速的找出这些文档。 在这个QA系统上，我们首先使用倒排表来快速查找包含至少一个单词的文档，然后再进行余弦相似度的计算，即可以大大减少```时间复杂度```。"
   ]
  },
  {
   "cell_type": "markdown",
   "metadata": {},
   "source": [
    "#### 3.2 倒排表的创建\n",
    "倒排表的创建其实很简单，最简单的方法就是循环所有的单词一遍，然后记录每一个单词所出现的文档，然后把这些文档的ID保存成list即可。我们可以定义一个类似于```hash_map```, 比如 ``inverted_index = {}``， 然后存放包含每一个关键词的文档出现在了什么位置，也就是，通过关键词的搜索首先来判断包含这些关键词的文档（比如出现至少一个），然后对于candidates问题做相似度比较。"
   ]
  },
  {
   "cell_type": "code",
   "execution_count": null,
   "metadata": {},
   "outputs": [],
   "source": [
    "#qlist=['beyonc start becom popular ','area beyonc compet wa grow up ',...]"
   ]
  },
  {
   "cell_type": "code",
   "execution_count": null,
   "metadata": {},
   "outputs": [],
   "source": [
    "# TODO 请创建倒排表\n",
    "inverted_idx = {}  # 定一个一个简单的倒排表，是一个map结构。 循环所有qlist一遍就可以\n",
    "\n",
    "\n",
    "# 在倒排表中添加关键词存在于qlist中的索引\n",
    "for i in range(len(qlist)):  # 问题的个数\n",
    "    for word in qlist[i].split(): # 分词\n",
    "        if word in inverted_idx.keys(): # 如果单词在倒排表中\n",
    "            inverted_idx[word].append(i)# 添加标记\"问题1\"（相当于doc1）\n",
    "        else:  # 单词不在倒排表中 ，直接赋值（相当于添加了键和值）\n",
    "            inverted_idx[word] = [i]\n",
    "\n",
    "for key in inverted_idx:\n",
    "    inverted_idx[key] = sorted(inverted_idx[key]) # 按单词排序\n"
   ]
  },
  {
   "cell_type": "code",
   "execution_count": null,
   "metadata": {},
   "outputs": [],
   "source": [
    "#qlist=['beyonc start becom popular ','area beyonc compet wa grow up ',...]\n",
    "#cut(qlist)=[['beyonc', 'start', 'becom', 'popular', ''],['area', 'beyonc', 'compet', 'wa', 'grow', 'up', ''],...]"
   ]
  },
  {
   "cell_type": "code",
   "execution_count": null,
   "metadata": {},
   "outputs": [],
   "source": [
    "def get_top_results_tfidf_invidx(query):\n",
    "    \"\"\"\n",
    "    （使用倒排表）\n",
    "    给定用户输入的问题 query, 返回最有可能的TOP 5问题。这里面需要做到以下几点：\n",
    "    1. 对于用户的输入 query 首先做一系列的预处理(上面提到的方法)，然后再转换成tf-idf向量（利用上面的vectorizer)\n",
    "    2. 计算跟每个库里的问题之间的相似度\n",
    "    3. 找出相似度最高的top5问题的答案\n",
    "    \"\"\"\n",
    "    # 从倒排表中取出单词对应的问题索引  例：we:[1,2,5]（we出现在问题1,2,5中）\n",
    "    index_list = []\n",
    "    for sentence in cut([query]): # 每一个问题\n",
    "        for word in sentence: # 每一个单词\n",
    "            if word in inverted_idx.keys(): # 单词在倒排表中\n",
    "                index_list += inverted_idx[word]\n",
    "    index_list = list(set(index_list))\n",
    "    \n",
    "    input_q = text_preprocessing([query]) # 预处理\n",
    "    input_vec = vectorizer.transform(input_q) # tfidf词向量\n",
    "    res = cosine_similarity(input_vec,X[index_list])[0] # 余弦相似度\n",
    "    top_idxs = np.argsort(res)[-5:].tolist()  # top_idxs存放相似度最高的（存在qlist里的）问题的下标 [184, 123, 47, 105, 103]\n",
    " \n",
    "    return alist[top_idxs] \n"
   ]
  },
  {
   "cell_type": "code",
   "execution_count": null,
   "metadata": {},
   "outputs": [],
   "source": [
    "# TODO: 编写几个测试用例，并输出结果  \n",
    "# 给出问题 找出答案\n",
    "print (get_top_results_tfidf_invidx(\"Which airport was shut down?\"))\n",
    "print (get_top_results_tfidf_invidx(\"Which airport is closed?\"))\n",
    "print (get_top_results_tfidf_invidx(\"What government blocked aid after Cyclone Nargis?\"))\n",
    "print (get_top_results_tfidf_invidx(\"Which government stopped aid after Hurricane Nargis?\"))"
   ]
  },
  {
   "cell_type": "code",
   "execution_count": null,
   "metadata": {},
   "outputs": [],
   "source": [
    "# ['Austin Powers in Goldmember' 'March 2006' 'Beyoncé' 'Fredericksburg'\n",
    "#  \"St. John's United Methodist Church\"]\n",
    "# ['Fighting Temptations' 'Sony Music' 'Survivor' 'Dreamgirls'\n",
    "#  'Book of Isaiah.']\n",
    "# ['118 million' 'Darlette Johnson' '2003' '2000s' 'The Beyoncé Experience']\n",
    "# ['Mathew Knowles' '118 million' 'Darlette Johnson' '2003'\n",
    "#  'The Beyoncé Experience']"
   ]
  },
  {
   "cell_type": "markdown",
   "metadata": {},
   "source": [
    "#### 3.3 语义相似度\n",
    "这里有一个问题还需要解决，就是语义的相似度。可以这么理解： 两个单词比如car, auto这两个单词长得不一样，但从语义上还是类似的。如果只是使用倒排表我们不能考虑到这些单词之间的相似度，这就导致如果我们搜索句子里包含了``car``, 则我们没法获取到包含auto的所有的文档。所以我们希望把这些信息也存下来。那这个问题如何解决呢？ 其实也不难，可以提前构建好相似度的关系，比如对于``car``这个单词，一开始就找好跟它意思上比较类似的单词比如top 10，这些都标记为``related words``。所以最后我们就可以创建一个保存``related words``的一个``map``. 比如调用``related_words['car']``即可以调取出跟``car``意思上相近的TOP 10的单词。 \n",
    "\n",
    "那这个``related_words``又如何构建呢？ 在这里我们仍然使用``Glove``向量，然后计算一下俩俩的相似度（余弦相似度）。之后对于每一个词，存储跟它最相近的top 10单词，最终结果保存在``related_words``里面。 这个计算需要发生在离线，因为计算量很大，复杂度为``O(V*V)``， V是单词的总数。 \n",
    "\n",
    "这个计算过程的代码请放在``related.py``的文件里，然后结果保存在``related_words.txt``里。 我们在使用的时候直接从文件里读取就可以了，不用再重复计算。所以在此notebook里我们就直接读取已经计算好的结果。 作业提交时需要提交``related.py``和``related_words.txt``文件，这样在使用的时候就不再需要做这方面的计算了。"
   ]
  },
  {
   "cell_type": "code",
   "execution_count": null,
   "metadata": {},
   "outputs": [],
   "source": [
    "# TODO 读取语义相关的单词\n",
    "def get_related_words(file):\n",
    "    dict_related = {}\n",
    "    for line in open(file, mode='r', encoding='utf-8'):\n",
    "        item = line.split(\",\")\n",
    "        word, si_list = item[0], [value for value in item[1].strip().split()]\n",
    "        dict_related[word] = si_list\n",
    "    return dict_related\n",
    "\n",
    "#{'earthworm': ['earthworms','eel','leeches'...]...}\n",
    "related_words = get_related_words('related_words.txt') # 直接放在文件夹的根目录下，不要修改此路径。"
   ]
  },
  {
   "cell_type": "markdown",
   "metadata": {},
   "source": [
    "#### 3.4 利用倒排表搜索\n",
    "在这里，我们使用倒排表先获得一批候选问题，然后再通过余弦相似度做精准匹配，这样一来可以节省大量的时间。搜索过程分成两步：\n",
    "\n",
    "- 使用倒排表把候选问题全部提取出来。首先，对输入的新问题做分词等必要的预处理工作，然后对于句子里的每一个单词，从``related_words``里提取出跟它意思相近的top 10单词， 然后根据这些top词从倒排表里提取相关的文档，把所有的文档返回。 这部分可以放在下面的函数当中，也可以放在外部。\n",
    "- 然后针对于这些文档做余弦相似度的计算，最后排序并选出最好的答案。\n",
    "\n",
    "可以适当定义自定义函数，使得减少重复性代码"
   ]
  },
  {
   "cell_type": "code",
   "execution_count": null,
   "metadata": {},
   "outputs": [],
   "source": [
    "# 利用倒排表和同义词获取相关的预料库中问题的序号\n",
    "def get_related_sentences(query):\n",
    "    input_seq = cut([query]) # 分词\n",
    "    si_list = [] # 近义词\n",
    "    for sentence in input_seq: # 每一个问题\n",
    "        for word in sentence: # 每一个单词\n",
    "            if word in related_words: # 单词出现在近义词表，即单词存在近义词  \n",
    "                  for value in related_words[word]:  # 找到单词word的近义词value 添加到si_list  (airport和shut存在近义词)\n",
    "                        si_list.append(value)\n",
    "    total_list = input_seq[0]\n",
    "    for word in si_list:\n",
    "        total_list.append(word)\n",
    "    index_list = []\n",
    "    \n",
    "    for word in total_list: # 每一个单词\n",
    "        if word in inverted_idx.keys(): # 单词在倒排表中\n",
    "            index_list += inverted_idx[word]\n",
    "    index_list = list(set(index_list))\n",
    "    return index_list\n",
    "\n"
   ]
  },
  {
   "cell_type": "code",
   "execution_count": null,
   "metadata": {},
   "outputs": [],
   "source": [
    "def get_top_results_tfidf(query):\n",
    "    \"\"\"\n",
    "    给定用户输入的问题 query, 返回最有可能的TOP 5问题。这里面需要做到以下几点：\n",
    "    1. 利用倒排表来筛选 candidate （需要使用related_words). \n",
    "    2. 对于候选文档，计算跟输入问题之间的相似度\n",
    "    3. 找出相似度最高的top5问题的答案\n",
    "    \"\"\"\n",
    "    \n",
    "    top_idxs = []  # top_idxs存放相似度最高的（存在qlist里的）问题的下表 \n",
    "                   # hint: 利用priority queue来找出top results. 思考为什么可以这么做？ \n",
    "    \n",
    "\n",
    "    # 根据近义词表和倒排表中取出单词对应的问题索引  例：we:[1,2,5]（we出现在问题1,2,5中）\n",
    "    index_list = get_related_sentences(query)\n",
    "    \n",
    "    input_q = text_preprocessing([query]) # 预处理\n",
    "    input_vec = vectorizer.transform(input_q) # tfidf词向量\n",
    "    res = cosine_similarity(input_vec,X[index_list])[0] # 余弦相似度\n",
    "    top_idxs = np.argsort(res)[-5:].tolist()  # top_idxs存放相似度最高的（存在qlist里的）问题的下标 [184, 123, 47, 105, 103]\n",
    " \n",
    "    return alist[top_idxs] "
   ]
  },
  {
   "cell_type": "code",
   "execution_count": null,
   "metadata": {},
   "outputs": [],
   "source": [
    "print (get_top_results_tfidf(\"Which airport was shut down?\"))\n",
    "print (get_top_results_tfidf(\"Which airport is closed?\"))\n",
    "print (get_top_results_tfidf(\"What government blocked aid after Cyclone Nargis?\"))\n",
    "print (get_top_results_tfidf(\"Which government stopped aid after Hurricane Nargis?\"))"
   ]
  },
  {
   "cell_type": "code",
   "execution_count": null,
   "metadata": {},
   "outputs": [],
   "source": [
    "# ['June 24, 2003' 'Houston' '300 million' 'musical comedy'\n",
    "#  'Austin Powers in Goldmember']\n",
    "# [\"New York's Roseland Ballroom\" 'the ONE Campaign' 'six' 'beehive' '2011']\n",
    "# ['Bey Hive' 'lead singer' 'Joseph Broussard' 'modelling'\n",
    "#  'Feria hair color advertisements']\n",
    "# ['Spanish' 'Op. 58' 'Independent Women Part I' \"Marie d'Agoult\"\n",
    "#  'Crazy in Love']"
   ]
  },
  {
   "cell_type": "code",
   "execution_count": null,
   "metadata": {},
   "outputs": [],
   "source": []
  },
  {
   "cell_type": "code",
   "execution_count": null,
   "metadata": {},
   "outputs": [],
   "source": [
    "def get_top_results_w2v(words):   \n",
    "    \"\"\"\n",
    "    给定用户输入的问题 query, 返回最有可能的TOP 5问题。这里面需要做到以下几点：\n",
    "    1. 利用倒排表来筛选 candidate （需要使用related_words). \n",
    "    2. 对于候选文档，计算跟输入问题之间的相似度\n",
    "    3. 找出相似度最高的top5问题的答案\n",
    "    \"\"\"\n",
    "    top_idxs = []  # top_idxs存放相似度最高的（存在qlist里的）问题的下表 \n",
    "                   # hint: 利用priority queue来找出top results. 思考为什么可以这么做？ \n",
    "    \n",
    "    abs_v = abs(X_w2v[0])\n",
    "    # 存储所有返回结果的索引\n",
    "    res = []\n",
    "    \n",
    "    # 从倒排表中取出相关联的索引\n",
    "    index_list = []\n",
    "    for c in cut([words]):\n",
    "        for i in c:\n",
    "            if i in inverted_idx.keys():\n",
    "                index_list += inverted_idx[i]\n",
    "    index_list = list(set(index_list))\n",
    "    \n",
    "    # input_q的句向量值\n",
    "    input_q_vec = get_words_vec(input_q) \n",
    "    \n",
    "    # 遍历倒排表内所有值，将list中所有vec值与input_q的vec值做对比，绝对值差较小的数的索引存入res中\n",
    "    for value in X_w2v[index_list]:\n",
    "        if abs(input_q_vec-value) < abs_v:\n",
    "            abs_v = abs(input_q_vec-value)\n",
    "            res.append(X_w2v[index_list].tolist().index(value))\n",
    "    \n",
    "    top_indx = np.argsort(res)[-5:].tolist()\n",
    "    \n",
    "    return alist[top_indx]  # 返回相似度最高的问题对应的答案，作为TOP5答案\n"
   ]
  },
  {
   "cell_type": "code",
   "execution_count": null,
   "metadata": {},
   "outputs": [],
   "source": [
    "# bert 方式获取相似度最高的答案\n",
    "def get_top_results_bert(query):\n",
    "    \"\"\"\n",
    "    给定用户输入的问题 query, 返回最有可能的TOP 5问题。这里面需要做到以下几点：\n",
    "    1. 利用倒排表来筛选 candidate （需要使用related_words).\n",
    "    2. 对于候选文档，计算跟输入问题之间的相似度\n",
    "    3. 找出相似度最高的top5问题的答案\n",
    "    \"\"\"\n",
    "\n",
    "    query = check_query(query)\n",
    "    if query == \"\":\n",
    "        print_format(\"please input a effect question\",\"\")\n",
    "        return None\n",
    "\n",
    "    sentence_list = get_related_sentences(query)\n",
    "\n",
    "    top_idxs = []  # top_idxs存放相似度最高的（存在qlist里的）问题的下表\n",
    "\n",
    "    input_seq = get_handled_input_seq(query)\n",
    "\n",
    "\n",
    "    seq_new = \" \".join(word for word in input_seq)\n",
    "    b_wv = get_bert_embedding([seq_new], False)\n",
    "\n",
    "    is_use_s_l = len(sentence_list) > 0\n",
    "\n",
    "    if is_use_s_l == True:\n",
    "        X_bert_si = []\n",
    "        for id in sentence_list:\n",
    "            X_bert_si.append(X_bert[id])\n",
    "        X_bert_si = np.array(X_bert_si)\n",
    "        result = list(cosine_similarity(csr_matrix(b_wv), csr_matrix(X_bert_si))[0])\n",
    "    else:\n",
    "        result = list(cosine_similarity(csr_matrix(b_wv), csr_matrix(X_bert))[0])\n",
    "\n",
    "    top_idxs = getTopIndexByResult(result)\n",
    "\n",
    "    if is_use_s_l == True:\n",
    "        top_idxs = [sentence_list[idx] for idx in top_idxs[:5]]\n",
    "    else:\n",
    "        top_idxs = top_idxs[:5]\n",
    "\n",
    "    return alist[top_idxs]  # 返回相似度最高的问题对应的答案，作为TOP5答案"
   ]
  },
  {
   "cell_type": "code",
   "execution_count": null,
   "metadata": {},
   "outputs": [],
   "source": [
    "# TODO: 编写几个测试用例，并输出结果\n",
    "\n",
    "test_query1 = \"Which airport was shut down?\"\n",
    "test_query2 = \"Which airport is closed?\"\n",
    "\n",
    "print (get_top_results_tfidf(test_query1))\n",
    "print (get_top_results_w2v(test_query1))\n",
    "print (get_top_results_bert(test_query1))\n",
    "\n",
    "print (get_top_results_tfidf(test_query2))\n",
    "print (get_top_results_w2v(test_query2))\n",
    "print (get_top_results_bert(test_query2))"
   ]
  },
  {
   "cell_type": "markdown",
   "metadata": {},
   "source": [
    "### 4. 拼写纠错\n",
    "其实用户在输入问题的时候，不能期待他一定会输入正确，有可能输入的单词的拼写错误的。这个时候我们需要后台及时捕获拼写错误，并进行纠正，然后再通过修正之后的结果再跟库里的问题做匹配。这里我们需要实现一个简单的拼写纠错的代码，然后自动去修复错误的单词。\n",
    "\n",
    "这里使用的拼写纠错方法是课程里讲过的方法，就是使用noisy channel model。 我们回想一下它的表示：\n",
    "\n",
    "$c^* = \\text{argmax}_{c\\in candidates} ~~p(c|s) = \\text{argmax}_{c\\in candidates} ~~p(s|c)p(c)$\n",
    "\n",
    "这里的```candidates```指的是针对于错误的单词的候选集，这部分我们可以假定是通过edit_distance来获取的（比如生成跟当前的词距离为1/2的所有的valid 单词。 valid单词可以定义为存在词典里的单词。 ```c```代表的是正确的单词， ```s```代表的是用户错误拼写的单词。 所以我们的目的是要寻找出在``candidates``里让上述概率最大的正确写法``c``。 \n",
    "\n",
    "$p(s|c)$，这个概率我们可以通过历史数据来获得，也就是对于一个正确的单词$c$, 有百分之多少人把它写成了错误的形式1，形式2...  这部分的数据可以从``spell_errors.txt``里面找得到。但在这个文件里，我们并没有标记这个概率，所以可以使用uniform probability来表示。这个也叫做channel probability。\n",
    "\n",
    "$p(c)$，这一项代表的是语言模型，也就是假如我们把错误的$s$，改造成了$c$， 把它加入到当前的语句之后有多通顺？在本次项目里我们使用bigram来评估这个概率。 举个例子： 假如有两个候选 $c_1, c_2$， 然后我们希望分别计算出这个语言模型的概率。 由于我们使用的是``bigram``， 我们需要计算出两个概率，分别是当前词前面和后面词的``bigram``概率。 用一个例子来表示：\n",
    "\n",
    "给定： ``We are go to school tomorrow``， 对于这句话我们希望把中间的``go``替换成正确的形式，假如候选集里有个，分别是``going``, ``went``, 这时候我们分别对这俩计算如下的概率：\n",
    "$p(going|are)p(to|going)$和 $p(went|are)p(to|went)$， 然后把这个概率当做是$p(c)$的概率。 然后再跟``channel probability``结合给出最终的概率大小。\n",
    "\n",
    "那这里的$p(are|going)$这些bigram概率又如何计算呢？答案是训练一个语言模型！ 但训练一个语言模型需要一些文本数据，这个数据怎么找？ 在这次项目作业里我们会用到``nltk``自带的``reuters``的文本类数据来训练一个语言模型。当然，如果你有资源你也可以尝试其他更大的数据。最终目的就是计算出``bigram``概率。 "
   ]
  },
  {
   "cell_type": "markdown",
   "metadata": {},
   "source": [
    "#### 4.1 训练一个语言模型\n",
    "在这里，我们使用``nltk``自带的``reuters``数据来训练一个语言模型。 使用``add-one smoothing``"
   ]
  },
  {
   "cell_type": "code",
   "execution_count": null,
   "metadata": {},
   "outputs": [],
   "source": [
    "# 读取语料库的数据\n",
    "categories = reuters.categories()\n",
    "corpus = reuters.sents(categories=categories)"
   ]
  },
  {
   "cell_type": "code",
   "execution_count": null,
   "metadata": {},
   "outputs": [],
   "source": [
    "# 每个单词出现的次数\n",
    "term_counts = {}\n",
    "# 为了简单起见，只记录每个单词出现在前一个单词之后的次数\n",
    "bigram_term_counts = {}\n",
    "\n",
    "for doc in corpus:\n",
    "    # 每个 doc 就是一个句子\n",
    "    # 在句子开头加一个起始标识符，将开头第一个单词表述成“在句子开头”的次数\n",
    "    doc = ['<s>'] + doc\n",
    "    \n",
    "    for index in range(0, len(doc) - 1):\n",
    "        \n",
    "        term = doc[index]\n",
    "        \n",
    "        bigram_term = doc[index:index + 2]\n",
    "        bigram_term = '{b}|{a}'.format(a=bigram_term[0], b=bigram_term[1])\n",
    "        \n",
    "        if term in term_counts:\n",
    "            term_counts[term] += 1\n",
    "        else:\n",
    "            term_counts[term] = 1\n",
    "            \n",
    "        if bigram_term in bigram_term_counts:\n",
    "            bigram_term_counts[bigram_term] += 1\n",
    "        else:\n",
    "            bigram_term_counts[bigram_term] = 1"
   ]
  },
  {
   "cell_type": "markdown",
   "metadata": {},
   "source": [
    "#### 4.2 构建Channel Probs\n",
    "基于``spell_errors.txt``文件构建``channel probability``, 其中$channel[c][s]$表示正确的单词$c$被写错成$s$的概率。 "
   ]
  },
  {
   "cell_type": "code",
   "execution_count": null,
   "metadata": {},
   "outputs": [],
   "source": [
    "# TODO 构建channel probability  \n",
    "\n",
    "channel = {}\n",
    "\n",
    "spell_error_dict = {}\n",
    "\n",
    "for line in open('spell-errors.txt'): # raining: rainning, raning \\n writings: writtings\n",
    "    item = line.split(\":\") #['raining', ' rainning, raning']\n",
    "    word = item[0].strip()  # raining\n",
    "    spell_error_list = [word.strip( )for word in item[1].strip().split(\",\")] #['rainning', 'raning']\n",
    "    spell_error_dict[word] = spell_error_list  # spell_error_dict={'raining': ['rainning', 'raning']}\n",
    "    \n",
    "    channel[word]={}\n",
    "    for spell_error in spell_error_list:\n",
    "        channel[word][spell_error]=1.0/len(spell_error_list) #{'raining': {'rainning': 0.5}}"
   ]
  },
  {
   "cell_type": "markdown",
   "metadata": {},
   "source": [
    "#### 4.3 根据错别字生成所有候选集合\n",
    "给定一个错误的单词，首先生成跟这个单词距离为1或者2的所有的候选集合。 这部分的代码我们在课程上也讲过，可以参考一下。 "
   ]
  },
  {
   "cell_type": "code",
   "execution_count": null,
   "metadata": {},
   "outputs": [],
   "source": [
    "vocab = set([line.rstrip() for line in open('vocab.txt')]) # 词典库"
   ]
  },
  {
   "cell_type": "code",
   "execution_count": null,
   "metadata": {},
   "outputs": [],
   "source": [
    "def known(words): # 不在词库的词 就不要  只留写法上正确的单词。\n",
    "    return list(set(w for w in words if w in vocab))"
   ]
  },
  {
   "cell_type": "code",
   "execution_count": null,
   "metadata": {},
   "outputs": [],
   "source": [
    "\n",
    "def edits1(word):\n",
    "\n",
    "    \"\"\"生成编辑距离为1的单词\"\"\" \n",
    "    # 1.insert 2. delete 3. replace\n",
    "    # appl: replace: bppl, cppl, aapl, abpl... \n",
    "    #       insert: bappl, cappl, abppl, acppl....\n",
    "    #       delete: ppl, apl, app\n",
    "    \n",
    "    # 假设使用26个字符\n",
    "    letters = 'abcdefghijklmnopqrstuvwxyz' \n",
    "    \n",
    "    splits = [(word[:i], word[i:]) for i in range(len(word)+1)] #[('', 'appl'), ('a', 'ppl'), ('ap', 'pl'), ('app', 'l'), ('appl', '')]\n",
    "   \n",
    "    # insert操作\n",
    "    inserts = [L+c+R for L, R in splits for c in letters] #['aappl', 'bappl', 'cappl', 'dappl'...]\n",
    "    \n",
    "    # delete\n",
    "    deletes = [L+R[1:] for L,R in splits if R] #['ppl', 'apl', 'apl', 'app']\n",
    "    \n",
    "    # replace\n",
    "    replaces = [L+c+R[1:] for L,R in splits if R for c in letters]   # ['appl', 'bppl', 'cppl', 'dppl'\n",
    "    \n",
    "    candidates = set(inserts+deletes+replaces)   #{'appr', 'applu', 'appli', 'apprl', .} \n",
    "    \n",
    "    # 过滤掉不存在于词典库里面的单词\n",
    "    edit1_words = known(candidates)\n",
    "    \n",
    "    return edit1_words\n",
    "    "
   ]
  },
  {
   "cell_type": "code",
   "execution_count": null,
   "metadata": {},
   "outputs": [],
   "source": [
    "print(edits1(\"appl\")) #['apply', 'apple']"
   ]
  },
  {
   "cell_type": "code",
   "execution_count": null,
   "metadata": {},
   "outputs": [],
   "source": [
    "def edits2(word, edit1_words):\n",
    "    \"\"\" 生成编辑距离为2的单词\"\"\"\n",
    "    \n",
    "    edit2_words = set(e2 for e1 in edit1_words for e2 in edits1(e1))\n",
    "    \n",
    "    # 过滤掉不存在于词典库里面的单词\n",
    "    edit2_words = known(edit2_words)\n",
    "    \n",
    "    return edit2_words"
   ]
  },
  {
   "cell_type": "code",
   "execution_count": null,
   "metadata": {},
   "outputs": [],
   "source": [
    "edit1_words=edits1(\"appl\")\n",
    "print(edits2(\"appl\",edit1_words)) #['amply', 'apply', 'apples', 'ample', 'apple', 'aptly']"
   ]
  },
  {
   "cell_type": "code",
   "execution_count": null,
   "metadata": {},
   "outputs": [],
   "source": [
    "def generate_candidates(word):\n",
    "    # 基于拼写错误的单词，生成跟它的编辑距离为1或者2的单词，并通过词典库的过滤。\n",
    "    # 只留写法上正确的单词。\n",
    "    \n",
    "    edit1_words = edits1(word)     # 编辑距离为1的候选项\n",
    "    edit2_words = edits2(word, edit1_words)   # 编辑距离为2的候选项\n",
    "    \n",
    "    candidates = edit1_words + edit2_words\n",
    "    \n",
    "    return candidates"
   ]
  },
  {
   "cell_type": "code",
   "execution_count": null,
   "metadata": {},
   "outputs": [],
   "source": [
    "print(generate_candidates(\"appl\"))\n",
    "#['apple', 'apply', 'apples', 'ample', 'apply', 'amply', 'apple', 'aptly']"
   ]
  },
  {
   "cell_type": "code",
   "execution_count": null,
   "metadata": {},
   "outputs": [],
   "source": []
  },
  {
   "cell_type": "markdown",
   "metadata": {},
   "source": [
    "#### 4.4 给定一个输入，如果有错误需要纠正\n",
    "\n",
    "给定一个输入``query``, 如果这里有些单词是拼错的，就需要把它纠正过来。这部分的实现可以简单一点： 对于``query``分词，然后把分词后的每一个单词在词库里面搜一下，假设搜不到的话可以认为是拼写错误的! 人如果拼写错误了再通过``channel``和``bigram``来计算最适合的候选。"
   ]
  },
  {
   "cell_type": "code",
   "execution_count": null,
   "metadata": {},
   "outputs": [],
   "source": [
    "V = len(term_count.keys())"
   ]
  },
  {
   "cell_type": "code",
   "execution_count": null,
   "metadata": {},
   "outputs": [],
   "source": [
    "def spell_corrector(line):\n",
    "    # 1. 首先做分词，然后把``line``表示成``tokens``\n",
    "    # 2. 循环每一token, 然后判断是否存在词库里。如果不存在就意味着是拼写错误的，需要修正。 \n",
    "    #    修正的过程就使用上述提到的``noisy channel model``, 然后从而找出最好的修正之后的结果。 \n",
    "    sentence_words = line.split()\n",
    "    # 找出错误的单词\n",
    "    new_sentence = \"\"\n",
    "    for index, word in enumerate(sentence_words):   \n",
    "        \n",
    "        word = word.rstrip('.').strip(',') # 去掉单词中出现的 , 和末尾的 . \n",
    "        if word not in vocab: # 找到拼写错误的单词\n",
    "            mis_word = word\n",
    "            # 生成针对拼写错误的候选词汇集\n",
    "            candidates = generate_candidates(mis_word)\n",
    "            \n",
    "            # 如果生成不出候选正确单词，说明不能通过编辑距离为 1 找到候选的正确单词，我们可以继续生成编辑距离为 2 的候选正确单词，这里暂不实现\n",
    "            if len(candidates) == 0:\n",
    "                continue\n",
    "                \n",
    "            scores = []\n",
    "            scores_dict = {}\n",
    "                \n",
    "            # 为每一个候选单词计算分数\n",
    "            # score = p(写错|正确)*p(正确)= log(p(写错|正确)) + log(p(正确))\n",
    "            for candi in candidates:\n",
    "                \n",
    "                score = 0.0\n",
    "                \n",
    "                # log(p(写错|正确))   channel[c][s]表示正确的单词c被写错成s的概率\n",
    "                if candi in channel and mis_word in channel[candi]:\n",
    "                    score += np.log(channel[candi][mis_word])\n",
    "                else:\n",
    "                    score += np.log(0.00000000001) # 简化处理\n",
    "                \n",
    "                # log(p(正确))  语言模型 用Bigram\n",
    "                # Bigram with Add-one Smoothing      \n",
    "                prev_word = sentence_words[index - 1] if index > 0 else '<s>'# 前一个单词Wi-1\n",
    "                target_word = candi# 当前单词\n",
    "                bigram_term_string = target_word + '|' + prev_word\n",
    "                \n",
    "                \n",
    "                #bigram_count 前后两个单词在一起的频次（bigram_term_counts['ASIAN EXPORTERS']=1）\n",
    "                if target_word in term_counts and bigram_term_string in bigram_term_counts:\n",
    "                    print(111)\n",
    "                    score += np.log((bigram_term_counts[bigram_term_string] + 1) / (term_counts[target_word] + V))\n",
    "                else:\n",
    "                    score += np.log(1.0 / V)\n",
    "                    \n",
    "                scores.append(score)\n",
    "                scores_dict[candi] = score\n",
    "                # 输出结果\n",
    "            max_index = scores.index(max(scores))\n",
    "            best_candicate = candidates[max_index]\n",
    "            # print(mis_word, '-->', best_candicate)\n",
    "            # print(scores_dict)\n",
    "\n",
    "            word=best_candicate\n",
    "        new_sentence += word + \" \"\n",
    "    return new_sentence\n",
    "\n"
   ]
  },
  {
   "cell_type": "code",
   "execution_count": null,
   "metadata": {},
   "outputs": [],
   "source": [
    "#  bigram_term_counts={'ASIAN|<s>': 4, 'EXPORTERS|ASIAN': 1, 'FEAR|EXPORTERS': 1, ...\n",
    "\n",
    " "
   ]
  },
  {
   "cell_type": "code",
   "execution_count": null,
   "metadata": {},
   "outputs": [],
   "source": [
    "test_query1 = \"How many polonaises were published aftr Chopin died?\"  # 拼写错误的\n",
    "\n",
    "test_query1 = spell_corrector(test_query1)\n",
    "print(test_query1) #How many polonaise were published after Chopin died \n"
   ]
  },
  {
   "cell_type": "markdown",
   "metadata": {},
   "source": [
    "#### 4.5 基于拼写纠错算法，实现用户输入自动矫正\n",
    "首先有了用户的输入``query``， 然后做必要的处理把句子转换成tokens的形状，然后对于每一个token比较是否是valid, 如果不是的话就进行下面的修正过程。 "
   ]
  },
  {
   "cell_type": "code",
   "execution_count": null,
   "metadata": {},
   "outputs": [],
   "source": [
    "test_query1 = \"How many polonaises were published aftr Chopin died?\"  # 拼写错误的\n",
    "test_query2 = \"What ar doctors part of?\"  # 拼写错误的\n",
    "\n",
    "test_query1 = spell_corrector(test_query1)\n",
    "test_query2 = spell_corrector(test_query2)\n",
    "\n",
    "print (get_top_results_tfidf(test_query1))\n",
    "print (get_top_results_w2v(test_query1))\n",
    "print (get_top_results_bert(test_query1))\n",
    "\n",
    "print (get_top_results_tfidf(test_query2))\n",
    "print (get_top_results_w2v(test_query2))\n",
    "print (get_top_results_bert(test_query2))"
   ]
  },
  {
   "cell_type": "markdown",
   "metadata": {},
   "source": [
    "### 附录 \n",
    "在本次项目中我们实现了一个简易的问答系统。基于这个项目，我们其实可以有很多方面的延伸。\n",
    "- 在这里，我们使用文本向量之间的余弦相似度作为了一个标准。但实际上，我们也可以基于基于包含关键词的情况来给一定的权重。比如一个单词跟related word有多相似，越相似就意味着相似度更高，权重也会更大。 \n",
    "- 另外 ，除了根据词向量去寻找``related words``也可以提前定义好同义词库，但这个需要大量的人力成本。 \n",
    "- 在这里，我们直接返回了问题的答案。 但在理想情况下，我们还是希望通过问题的种类来返回最合适的答案。 比如一个用户问：“明天北京的天气是多少？”， 那这个问题的答案其实是一个具体的温度（其实也叫做实体），所以需要在答案的基础上做进一步的抽取。这项技术其实是跟信息抽取相关的。 \n",
    "- 对于词向量，我们只是使用了``average pooling``， 除了average pooling，我们也还有其他的经典的方法直接去学出一个句子的向量。\n",
    "- 短文的相似度分析一直是业界和学术界一个具有挑战性的问题。在这里我们使用尽可能多的同义词来提升系统的性能。但除了这种简单的方法，可以尝试其他的方法比如WMD，或者适当结合parsing相关的知识点。 "
   ]
  },
  {
   "cell_type": "markdown",
   "metadata": {
    "collapsed": true
   },
   "source": [
    "好了，祝你好运！ "
   ]
  }
 ],
 "metadata": {
  "kernelspec": {
   "display_name": "Python 3",
   "language": "python",
   "name": "python3"
  },
  "language_info": {
   "codemirror_mode": {
    "name": "ipython",
    "version": 3
   },
   "file_extension": ".py",
   "mimetype": "text/x-python",
   "name": "python",
   "nbconvert_exporter": "python",
   "pygments_lexer": "ipython3",
   "version": "3.6.5"
  }
 },
 "nbformat": 4,
 "nbformat_minor": 2
}
